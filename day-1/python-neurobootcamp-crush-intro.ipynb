{
 "cells": [
  {
   "cell_type": "markdown",
   "metadata": {},
   "source": [
    "# Welcome to the Python Neuro Bootcamp!!!\n",
    "\n",
    "<img src=\"http://blog.pascallisch.net/wp-content/uploads/2013/09/python-for-pascal.jpg\" width=\"200\" height=\"200\" />\n",
    "\n",
    "## __What is Python?__  \n",
    "Python is a widely used programming language for general-purpose programming, created by Guido van Rossum and first released in 1991. Python is an *interpreted language*, meaning that it uses a pre-compiled interpreter to read your program code and execute it, one step at a time (similarly to languages like Matlab and IgorPro).  \n",
    "Python emphasizes code readability and a syntax that allows programmers to express concepts in fewer lines of code than might be used in languages such as C++ or Java. \n",
    "Writing \"*Pythonian*\" code means writing clear, documented code that other people (and you in six months) will understand. \n",
    "\n",
    "The goal of this bootcamp is to introduce you to Python by working through some neuro data sets that we selected based on your interests. But before we jump into hands-on analysis, we will go quickly through some basic concepts of Python programming. \n",
    "\n",
    "\n",
    "## __What are Python's main strengths and why did we choose it for this course?__ \n",
    "- Python is FREE!\n",
    "- Python is becoming the *de facto* standard programming language in Neuroscience.\n",
    "- There is a lot of support online, and it is easy to find an answer to your questions just by googling it.\n",
    "- It is designed to be readable (if you write it to be so!) \n",
    "\n",
    "## __What is the Jupyter notebook and why are we using it for this course?__\n",
    "\n",
    "This is a Jupyter notebook, a space where you can combine plain text (this is Markdown) and code. It is an awesome educational tool! The best part is that you will be able to interact with anythnig that is written here, test out code, take notes, and make it your own.\n",
    "\n",
    "For more information about the Jupyter notebook and how to use it, check out the [complete guide](https://jupyter.brynmawr.edu/services/public/dblank/Jupyter%20Notebook%20Users%20Manual.ipynb).\n",
    "\n",
    "## __Where to get help:__\n",
    "* [Python documentation](https://www.python.org/doc/) - Comprehensive Python documentation for both version 2 and 3.\n",
    "* [Tutorial](https://docs.python.org/2/tutorial/index.html) - Comprehensive Python tutorial - feel free to browse if you are hungry for more after this course! \n",
    "* [Library Reference](https://docs.python.org/2/library/index.html) - Extensive information about the standard Python library \n",
    "* [Scientific python stack documentation: numpy, scipy, matplotlib](https://scipy.org/docs.html) - Information about some science-specific Python packages\n",
    "* [Stack Overflow](https://stackoverflow.com/) - A general forum commonly used to asked programming questions. Search for answers to your questions before posting your questions!\n",
    "\n",
    "MATLAB-to-Python cheat sheets:  \n",
    "* http://mathesaurus.sourceforge.net/matlab-numpy.html\n",
    "* http://mathesaurus.sourceforge.net/matlab-python-xref.pdf \n"
   ]
  },
  {
   "cell_type": "markdown",
   "metadata": {},
   "source": [
    "## Remember that:\n",
    "\n",
    "* Python is an interpreted language.\n",
    "* It executes commands as it receives them.\n",
    "* It ignores lines that begin with '#'.  These are called 'comments'. \n",
    "* Comments are great, so write them as you go along. You think you will remember, but you know you won't! :)"
   ]
  },
  {
   "cell_type": "markdown",
   "metadata": {},
   "source": [
    "## Outline of this notebook\n",
    "\n",
    "We will go through some basic topics related to coding in Python:\n",
    "\n",
    "1. Intro to Python basic data types\n",
    "    * Numbers\n",
    "    * Printing\n",
    "    * Strings\n",
    "    * Lists\n",
    "\n",
    "2. Handling erros\n",
    "\n",
    "3. Easy exercise to tide it all up\n",
    "\n"
   ]
  },
  {
   "cell_type": "markdown",
   "metadata": {},
   "source": [
    "# Data types\n",
    "\n",
    "## Numbers\n",
    "Python has various \"types\" of numbers (numeric literals). We will mainly focus on **integers** and **floating point numbers**.\n",
    "\n",
    "You all know what integers are, but what about \"*floating point numbers*\"? Floating point numbers in Python are notable because they have a decimal point in them, or use an exponential (e) to define the number. \n",
    "\n",
    "For example 2.0 and -2.1 are floating point numbers. 4e2 (4 times 10 to the power of 2) is also an example of a floating point number."
   ]
  },
  {
   "cell_type": "code",
   "execution_count": null,
   "metadata": {
    "collapsed": false
   },
   "outputs": [],
   "source": [
    "int_number = 56"
   ]
  },
  {
   "cell_type": "markdown",
   "metadata": {},
   "source": [
    "In Python, a single piece of data is called an *object*, and each object has a specific type. These include simple types like integers, floats, and strings, and more complex types like lists, arrays, and dictionaries.\n",
    "\n",
    "In the example above, we created an object with the value 56. If we want to know what type this object has, we can ask Python using the built-in *type* function: "
   ]
  },
  {
   "cell_type": "code",
   "execution_count": null,
   "metadata": {
    "collapsed": false
   },
   "outputs": [],
   "source": [
    "type(int_number)"
   ]
  },
  {
   "cell_type": "markdown",
   "metadata": {},
   "source": [
    "Let's look at some easy basic arithmetic operations"
   ]
  },
  {
   "cell_type": "code",
   "execution_count": null,
   "metadata": {
    "collapsed": false
   },
   "outputs": [],
   "source": [
    "a = 1 + 3           # addition / subtraction\n",
    "b = 10.0 * 4 / 2    # multiplication / division\n",
    "c = 8.5**3          # exponent\n",
    "d = 173 % 12        # modulo (this is super useful!)\n",
    "e = 1e2 * (c + a)   # scientific notation, parentheses\n",
    "a, b, c, d, e"
   ]
  },
  {
   "cell_type": "markdown",
   "metadata": {},
   "source": [
    "Now try something as simple as 3/2, what happens?\n"
   ]
  },
  {
   "cell_type": "code",
   "execution_count": null,
   "metadata": {
    "collapsed": true
   },
   "outputs": [],
   "source": [
    "# type the division below and run the cell\n"
   ]
  },
  {
   "cell_type": "markdown",
   "metadata": {},
   "source": [
    "### <font color='red'>Python 3 Alert!</font>\n",
    "\n",
    "**What did just happen?** \n",
    "\n",
    "The answer is nothing spectacular if you are using Python 3, but something unexpected if you are using Python 2. \n",
    "\n",
    "In Python 2, the / symbol performs what is known as \"*classic*\" division; this means that the decimal points are truncated (cut off). Python 3, however, is smarter and a single / performs \"*true*\" division.\n",
    "\n",
    "So what do we do if we are using Python 2 to avoid this?\n",
    "\n",
    "There are two options:\n",
    "\n",
    "You could specify one of the numbers to be a float:"
   ]
  },
  {
   "cell_type": "code",
   "execution_count": null,
   "metadata": {
    "collapsed": false
   },
   "outputs": [],
   "source": [
    "# Specifying one of the numbers as a float\n",
    "3.0/2"
   ]
  },
  {
   "cell_type": "code",
   "execution_count": null,
   "metadata": {
    "collapsed": false
   },
   "outputs": [],
   "source": [
    "# Works for either number\n",
    "3/2.0"
   ]
  },
  {
   "cell_type": "markdown",
   "metadata": {},
   "source": [
    "Or you can \"cast\" the type using a function that basically turns integers into floats. This function, unsurprisingly, is called float()."
   ]
  },
  {
   "cell_type": "code",
   "execution_count": null,
   "metadata": {
    "collapsed": false
   },
   "outputs": [],
   "source": [
    "float(3)/2"
   ]
  },
  {
   "cell_type": "markdown",
   "metadata": {},
   "source": [
    "Or we can do something even cooler which is traveling back to the future..."
   ]
  },
  {
   "cell_type": "code",
   "execution_count": null,
   "metadata": {
    "collapsed": false
   },
   "outputs": [],
   "source": [
    "from __future__ import division\n",
    "3/2\n",
    "# you can do this at the beginning of your notebook and from there on you will be able to use \n",
    "# the division as in Python 3."
   ]
  },
  {
   "cell_type": "markdown",
   "metadata": {},
   "source": [
    "## Strings\n",
    "\n",
    "Strings are used in Python to record text information, such as a name. Strings in Python are actually a sequence, which basically means Python keeps track of every element in the string as a sequence. "
   ]
  },
  {
   "cell_type": "code",
   "execution_count": null,
   "metadata": {
    "collapsed": false
   },
   "outputs": [],
   "source": [
    "# You can use print to print out anything you want\n",
    "print \"Hello, Neurocoders!\""
   ]
  },
  {
   "cell_type": "markdown",
   "metadata": {},
   "source": [
    "### <font color='red'>Second Python 3 Alert!</font>\n",
    "Again, Python 3 has done something different with print, making it a function. So if you are using Python 3, you will have to use print() as follows. Since I'm using Python 2 here, I'll have to do a similar trick to import the print() function from the future!"
   ]
  },
  {
   "cell_type": "code",
   "execution_count": null,
   "metadata": {
    "collapsed": false
   },
   "outputs": [],
   "source": [
    "from __future__ import print_function \n",
    "\n",
    "print(\"Hello, Neurocoders!\")"
   ]
  },
  {
   "cell_type": "markdown",
   "metadata": {},
   "source": [
    "Let's go over some basic and fun string manipulations.\n",
    "Something very useful is figuring out the length of a string. To do that you can use another\n",
    "built-in function *len()*."
   ]
  },
  {
   "cell_type": "code",
   "execution_count": null,
   "metadata": {
    "collapsed": false
   },
   "outputs": [],
   "source": [
    "len('Hello, Neurocoders!')\n",
    "\n",
    "# Note that the count below includes spaces!"
   ]
  },
  {
   "cell_type": "markdown",
   "metadata": {},
   "source": [
    "Let's assign our string to a new object called *s*"
   ]
  },
  {
   "cell_type": "code",
   "execution_count": null,
   "metadata": {
    "collapsed": false
   },
   "outputs": [],
   "source": [
    "s = 'Hello, Neurocoders!'\n",
    "\n",
    "# now, what happens when you print s?\n",
    "print(s)"
   ]
  },
  {
   "cell_type": "markdown",
   "metadata": {},
   "source": [
    "### Indexing\n",
    "\n",
    "Conviniently, strings are sequences, which means Python can use indexes to call parts of the sequence. Let's learn how this works.\n",
    "\n",
    "Python uses brackets [ ] after an object to call its index. \n",
    "\n",
    "Indexing is something that we need to learn from day one! Doing it with strings is fun and easy. So, let's start indexing!"
   ]
  },
  {
   "cell_type": "code",
   "execution_count": null,
   "metadata": {
    "collapsed": false
   },
   "outputs": [],
   "source": [
    "# Show first element (in this case a letter)\n",
    "s[0]\n",
    "\n",
    "# now try different indexes"
   ]
  },
  {
   "cell_type": "markdown",
   "metadata": {},
   "source": [
    "<font color='red'>IMPORTANT NOTE: in Python the first index is a __0__!!!</font>"
   ]
  },
  {
   "cell_type": "markdown",
   "metadata": {},
   "source": [
    "### Slicing\n",
    "We can use a \":\" to perform slicing which grabs everything up to a designated point. For example:"
   ]
  },
  {
   "cell_type": "code",
   "execution_count": null,
   "metadata": {
    "collapsed": false
   },
   "outputs": [],
   "source": [
    "# Grab everything past the first term all the way to the length of s which is len(s)\n",
    "s[1:]"
   ]
  },
  {
   "cell_type": "markdown",
   "metadata": {},
   "source": [
    "Note that by doing this you did not change the contect of the object *s*"
   ]
  },
  {
   "cell_type": "code",
   "execution_count": null,
   "metadata": {
    "collapsed": false
   },
   "outputs": [],
   "source": [
    "s"
   ]
  },
  {
   "cell_type": "code",
   "execution_count": null,
   "metadata": {
    "collapsed": false
   },
   "outputs": [],
   "source": [
    "# Grab everything UP TO the 3rd index\n",
    "s[:3]"
   ]
  },
  {
   "cell_type": "markdown",
   "metadata": {},
   "source": [
    "Note on the above slicing. Here we're telling Python to grab everything from 0 up to 3. **This doesn't include the 3rd index**. You'll notice this a lot in Python, where statements and are usually in the context of \"up to, but not including\" – in math it would be [ )."
   ]
  },
  {
   "cell_type": "markdown",
   "metadata": {},
   "source": [
    "We can also use index and slice notation to grab elements of a sequence by a specified step size (the default is 1). For instance we can use two colons in a row and then a number specifying the frequency to grab elements."
   ]
  },
  {
   "cell_type": "code",
   "execution_count": null,
   "metadata": {
    "collapsed": false
   },
   "outputs": [],
   "source": [
    "# Grab everything, but go in step sizes of 2\n",
    "s[::2]"
   ]
  },
  {
   "cell_type": "markdown",
   "metadata": {},
   "source": [
    "### String Properties\n",
    "Its important to note that strings have an important property known as immutability. This means that once a string is created, the elements within it can not be changed or replaced."
   ]
  },
  {
   "cell_type": "code",
   "execution_count": null,
   "metadata": {
    "collapsed": true
   },
   "outputs": [],
   "source": [
    "# If you try to change the first letter to 'x' for example...\n",
    "s[0] = 'x'"
   ]
  },
  {
   "cell_type": "markdown",
   "metadata": {},
   "source": [
    "What we can do is concatenating strings using some basic arithmeting, just as we did with numbers:"
   ]
  },
  {
   "cell_type": "code",
   "execution_count": null,
   "metadata": {
    "collapsed": false
   },
   "outputs": [],
   "source": [
    "s = s + \" Let's learn Python together!\"\n",
    "s"
   ]
  },
  {
   "cell_type": "code",
   "execution_count": null,
   "metadata": {
    "collapsed": false
   },
   "outputs": [],
   "source": [
    "letter = 'z'\n",
    "letter*10"
   ]
  },
  {
   "cell_type": "markdown",
   "metadata": {},
   "source": [
    "### Basic built-in string methods\n",
    "\n",
    "Objects in Python usually have built-in *methods*. These methods are functions inside the object that can perform actions or commands on the object itself.\n",
    "\n",
    "We call methods with a period and then the method name. Methods are in the form:\n",
    "\n",
    "object.method(parameters)\n",
    "\n",
    "Where parameters are extra arguments we can pass into the method. You can press tab after the period to learn about methods associated with that particular object type.\n",
    "\n",
    "Here are a few useful built-in methods in strings:"
   ]
  },
  {
   "cell_type": "code",
   "execution_count": null,
   "metadata": {
    "collapsed": false
   },
   "outputs": [],
   "source": [
    "s.replace(\"Neurocoders\",\"Neuroscientists\")"
   ]
  },
  {
   "cell_type": "code",
   "execution_count": null,
   "metadata": {
    "collapsed": false
   },
   "outputs": [],
   "source": [
    "# Upper Case a string\n",
    "s.upper()"
   ]
  },
  {
   "cell_type": "code",
   "execution_count": null,
   "metadata": {
    "collapsed": false
   },
   "outputs": [],
   "source": [
    "# Lower case\n",
    "s.lower()"
   ]
  },
  {
   "cell_type": "code",
   "execution_count": null,
   "metadata": {
    "collapsed": false
   },
   "outputs": [],
   "source": [
    "# Split the words \n",
    "s.split()"
   ]
  },
  {
   "cell_type": "code",
   "execution_count": null,
   "metadata": {
    "collapsed": false
   },
   "outputs": [],
   "source": [
    "# Split by a specific element (doesn't include the element that was split on)\n",
    "s.split('N')"
   ]
  },
  {
   "cell_type": "markdown",
   "metadata": {},
   "source": [
    "Note that the object *s* does not change what it is assigned to."
   ]
  },
  {
   "cell_type": "markdown",
   "metadata": {},
   "source": [
    "## Lists\n",
    "\n",
    "Lists can be thought of the most general version of a *sequence* in Python. Lists are one of the most versatile data type in Python. Lists work similarly to strings – use the len() function and square brackets [ ] to access data, with the first element at index 0.\n",
    "\n",
    "Lists are constructed with brackets [] and commas separating every element in the list."
   ]
  },
  {
   "cell_type": "code",
   "execution_count": null,
   "metadata": {
    "collapsed": true
   },
   "outputs": [],
   "source": [
    "# Assign a list to a variable named my_list\n",
    "my_list = [1,2,3]"
   ]
  },
  {
   "cell_type": "markdown",
   "metadata": {},
   "source": [
    "Unlike strings, lists are mutable, meaning the elements inside a list can be changed. Note that the content of my_list changes when you re-assign one element to something else. Also note that by doing so we have changed the original list."
   ]
  },
  {
   "cell_type": "code",
   "execution_count": null,
   "metadata": {
    "collapsed": false
   },
   "outputs": [],
   "source": [
    "my_list[0]='one'\n",
    "my_list"
   ]
  },
  {
   "cell_type": "markdown",
   "metadata": {},
   "source": [
    "Indexing, slicing, and basic arithmetic manipulation work just as they did in strings. Try grabbing only the last element of my_list and then check if you changed what my_list points to."
   ]
  },
  {
   "cell_type": "code",
   "execution_count": null,
   "metadata": {
    "collapsed": false
   },
   "outputs": [],
   "source": [
    "# Write here\n"
   ]
  },
  {
   "cell_type": "code",
   "execution_count": null,
   "metadata": {
    "collapsed": false
   },
   "outputs": [],
   "source": [
    "my_list + [4.0]"
   ]
  },
  {
   "cell_type": "code",
   "execution_count": null,
   "metadata": {
    "collapsed": false
   },
   "outputs": [],
   "source": [
    "my_list"
   ]
  },
  {
   "cell_type": "markdown",
   "metadata": {},
   "source": [
    "You would have to reassign the list to make the change permanent."
   ]
  },
  {
   "cell_type": "code",
   "execution_count": null,
   "metadata": {
    "collapsed": false
   },
   "outputs": [],
   "source": [
    "# Reassign\n",
    "my_list = my_list + [4.0]\n",
    "my_list"
   ]
  },
  {
   "cell_type": "markdown",
   "metadata": {},
   "source": [
    "### Basic built-in list methods\n",
    "\n",
    "Use the append() method to permanently add an item to the end of a list:"
   ]
  },
  {
   "cell_type": "code",
   "execution_count": null,
   "metadata": {
    "collapsed": false
   },
   "outputs": [],
   "source": [
    "# Append is a very useful method. We can append any other object, including another list!\n",
    "# That makes my_list a nested list\n",
    "my_list.append([\"five\",6])\n",
    "my_list"
   ]
  },
  {
   "cell_type": "code",
   "execution_count": null,
   "metadata": {
    "collapsed": false
   },
   "outputs": [],
   "source": [
    "# Grab the first element of the last elemen of my_list and assign in to the variable my_string\n",
    "my_string=my_list[-1][0]\n",
    "my_string"
   ]
  },
  {
   "cell_type": "code",
   "execution_count": null,
   "metadata": {
    "collapsed": false
   },
   "outputs": [],
   "source": [
    "# Pop off the 0 indexed item. By default pop() pops off the last index but you can specify\n",
    "# the index\n",
    "my_list.pop()\n",
    "my_list"
   ]
  },
  {
   "cell_type": "code",
   "execution_count": null,
   "metadata": {
    "collapsed": false
   },
   "outputs": [],
   "source": [
    "# Reverse the order of your list's elements\n",
    "my_list.reverse()\n",
    "my_list"
   ]
  },
  {
   "cell_type": "code",
   "execution_count": null,
   "metadata": {
    "collapsed": false
   },
   "outputs": [],
   "source": [
    "# Use sort to sort the list – in this case alphabetical order, but for numbers it \n",
    "# will go ascending. Also note that numbers have \"priority\" over strings.\n",
    "my_list.sort()\n",
    "my_list"
   ]
  },
  {
   "cell_type": "markdown",
   "metadata": {},
   "source": [
    "## Handling errors\n",
    "\n",
    "Everyone makes mistakes, and errors are common to every programmer, no matter their experience. \n",
    "\n",
    "To better prepare you on the inevitable, in this session we will try to understand what the different types of errors are and when you are likely to encounter them. Once you know why you get certain types of errors, they become much easier to fix.\n",
    "\n",
    "Errors in Python have a very specific form, called a *traceback*, meaning that Python will print the sequence of errors that led to the final error. For example:\n"
   ]
  },
  {
   "cell_type": "code",
   "execution_count": null,
   "metadata": {
    "collapsed": false
   },
   "outputs": [],
   "source": [
    "print(hello)"
   ]
  },
  {
   "cell_type": "markdown",
   "metadata": {},
   "source": [
    "This is a **variable-name error**. Likely we tried to print something that either does not yet exist, or we forgot to put quotes around what we meant to be a sring, or we have a typo in our code. That depends on what you wanted your code to do."
   ]
  },
  {
   "cell_type": "markdown",
   "metadata": {},
   "source": [
    "[Software carpentry](https://southampton-rsg.github.io/2017-08-01-southampton-swc/novice/python/07-errors.html) has an entire lesson with exercises to better understand how to handle errors. Let's take a quick look at it! \n"
   ]
  },
  {
   "cell_type": "markdown",
   "metadata": {},
   "source": [
    "## In class exercise\n",
    "\n",
    "Let's work together at figuring out how to manipulate the following string, which happens to be the DNA sequence that encodes for the human histon cluster 1, H1b. \n",
    "\n",
    "The sequence below is the \"coding\" strand which is usually the only one stored in bio-informatics, since the template strand can be derived from the fact that an adenine (A) base always pairs with a thymine (T) and a cytosine (C) always pairs with a guanine (G).\n",
    "\n",
    "      A ACC TGC TCT TTA GAT TTC GAG CTT ATT CTC TTC TAG CAG TTT CTT GCC\n",
    "    ACC ATG TCG GAA ACC GCT CCT GCC GAG ACA GCC ACC CCA GCG CCG GTG GAG\n",
    "    AAA TCC CCG GCT AAG AAG AAG GCA ACT AAG AAG GCT GCC GGC GCC GGC GCT\n",
    "    GCT AAG CGC AAA GCG ACG GGG CCC CCA GTC TCA GAG CTG ATC ACC AAG GCT\n",
    "    GTG GCT GCT TCT AAG GAG CGC AAT GGC CTT TCT TTG GCA GCC CTT AAG AAG\n",
    "    GCC TTA GCG GCC GGT GGC TAC GAC GTG GAG AAG AAT AAC AGC CGC ATT AAG\n",
    "    CTG GGC CTC AAG AGC TTG GTG AGC AAG GGC ACC CTG GTG CAG ACC AAG GGC\n",
    "    ACT GGT GCT TCT GGC TCC TTT AAA CTC AAC AAG AAG GCG GCC TCC GGG GAA\n",
    "    GCC AAG CCC AAA GCC AAG AAG GCA GGC GCC GCT AAA GCT AAG AAG CCC GCG\n",
    "    GGG GCC ACG CCT AAG AAG GCC AAG AAG GCT GCA GGG GCG AAA AAG GCA GTG\n",
    "    AAG AAG ACT CCG AAG AAG GCG AAG AAG CCC GCG GCG GCT GGC GTC AAA AAG\n",
    "    GTG GCG AAG AGC CCT AAG AAG GCC AAG GCC GCT GCC AAA CCG AAA AAG GCA\n",
    "    ACC AAG AGT CCT GCC AAG CCC AAG GCA GTT AAG CCG AAG GCG GCA AAG CCC\n",
    "    AAA GCC GCT AAG CCC AAA GCA GCA AAA CCT AAA GCT GCA AAG GCC AAG AAG\n",
    "    GCG GCT GCC AAA AAG AAG TAG GAA GCT GGC GTG TGA AAA CCG CAA CAA AGC\n",
    "    CCC AAA GGC TCT TTT CAG AGC CAC CCA\n",
    "\n",
    "As you all know, sequences of DNA and RNA are frequently represented by strings of letters corresponding to the bases:\n",
    "\n",
    "\"A\" adenine  \n",
    "\"C\" cytosine   \n",
    "\"G\" guanine  \n",
    "\"T\" thymine  \n",
    "\"U\" uracil (which replaces thymine in RNA)  "
   ]
  },
  {
   "cell_type": "code",
   "execution_count": null,
   "metadata": {
    "collapsed": true
   },
   "outputs": [],
   "source": [
    "# Question 1: Compute the equivalent mRNA sequence to the sequence in this example.\n",
    "coding_sequence = (\n",
    "    \"AACCTGCTCTTTAGATTTCGAGCTTATTCTCTTCTAGCAGTTTCTTGCCACCATGTCGGAAACCGCTCCT\" +\n",
    "    \"GCCGAGACAGCCACCCCAGCGCCGGTGGAGAAATCCCCGGCTAAGAAGAAGGCAACTAAGAAGGCTGCCG\" +\n",
    "    \"GCGCCGGCGCTGCTAAGCGCAAAGCGACGGGGCCCCCAGTCTCAGAGCTGATCACCAAGGCTGTGGCTGC\" +\n",
    "    \"TTCTAAGGAGCGCAATGGCCTTTCTTTGGCAGCCCTTAAGAAGGCCTTAGCGGCCGGTGGCTACGACGTG\" +\n",
    "    \"GAGAAGAATAACAGCCGCATTAAGCTGGGCCTCAAGAGCTTGGTGAGCAAGGGCACCCTGGTGCAGACCA\" +\n",
    "    \"AGGGCACTGGTGCTTCTGGCTCCTTTAAACTCAACAAGAAGGCGGCCTCCGGGGAAGCCAAGCCCAAAGC\" +\n",
    "    \"CAAGAAGGCAGGCGCCGCTAAAGCTAAGAAGCCCGCGGGGGCCACGCCTAAGAAGGCCAAGAAGGCTGCA\" +\n",
    "    \"GGGGCGAAAAAGGCAGTGAAGAAGACTCCGAAGAAGGCGAAGAAGCCCGCGGCGGCTGGCGTCAAAAAGG\" +\n",
    "    \"TGGCGAAGAGCCCTAAGAAGGCCAAGGCCGCTGCCAAACCGAAAAAGGCAACCAAGAGTCCTGCCAAGCC\" +\n",
    "    \"CAAGGCAGTTAAGCCGAAGGCGGCAAAGCCCAAAGCCGCTAAGCCCAAAGCAGCAAAACCTAAAGCTGCA\" +\n",
    "    \"AAGGCCAAGAAGGCGGCTGCCAAAAAGAAGTAGGAAGCTGGCGTGTGAAAACCGCAACAAAGCCCCAAAG\" +\n",
    "    \"GCTCTTTTCAGAGCCACCCA\"\n",
    ")"
   ]
  },
  {
   "cell_type": "code",
   "execution_count": null,
   "metadata": {
    "collapsed": true
   },
   "outputs": [],
   "source": []
  }
 ],
 "metadata": {
  "kernelspec": {
   "display_name": "Python 2",
   "language": "python",
   "name": "python2"
  },
  "language_info": {
   "codemirror_mode": {
    "name": "ipython",
    "version": 2
   },
   "file_extension": ".py",
   "mimetype": "text/x-python",
   "name": "python",
   "nbconvert_exporter": "python",
   "pygments_lexer": "ipython2",
   "version": "2.7.11"
  }
 },
 "nbformat": 4,
 "nbformat_minor": 2
}
